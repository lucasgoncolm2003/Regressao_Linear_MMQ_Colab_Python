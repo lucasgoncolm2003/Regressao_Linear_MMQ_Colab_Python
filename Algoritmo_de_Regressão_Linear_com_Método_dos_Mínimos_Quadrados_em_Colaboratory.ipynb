{
  "nbformat": 4,
  "nbformat_minor": 0,
  "metadata": {
    "colab": {
      "provenance": [],
      "authorship_tag": "ABX9TyPP2lvuMx9eMxRuUTZZAhcf",
      "include_colab_link": true
    },
    "kernelspec": {
      "name": "python3",
      "display_name": "Python 3"
    },
    "language_info": {
      "name": "python"
    }
  },
  "cells": [
    {
      "cell_type": "markdown",
      "metadata": {
        "id": "view-in-github",
        "colab_type": "text"
      },
      "source": [
        "<a href=\"https://colab.research.google.com/github/lucasgoncolm2003/Regressao_Linear_MMQ_Colab_Python/blob/main/Algoritmo_de_Regress%C3%A3o_Linear_com_M%C3%A9todo_dos_M%C3%ADnimos_Quadrados_em_Colaboratory.ipynb\" target=\"_parent\"><img src=\"https://colab.research.google.com/assets/colab-badge.svg\" alt=\"Open In Colab\"/></a>"
      ]
    },
    {
      "cell_type": "code",
      "execution_count": 11,
      "metadata": {
        "id": "KJCdVpRh1D37"
      },
      "outputs": [],
      "source": [
        "import pandas as pd\n",
        "import matplotlib.pyplot as plt"
      ]
    },
    {
      "cell_type": "code",
      "source": [
        "dados = pd.read_csv(\"idade_e_altura.csv\",sep=';')\n",
        "dados"
      ],
      "metadata": {
        "colab": {
          "base_uri": "https://localhost:8080/",
          "height": 1000
        },
        "id": "EDn74R8a3KI9",
        "outputId": "d204cc71-e025-4e46-f792-b01f7ad85b9d"
      },
      "execution_count": 12,
      "outputs": [
        {
          "output_type": "execute_result",
          "data": {
            "text/plain": [
              "    Idade  Altura\n",
              "0    15.0    1.58\n",
              "1    15.2    1.59\n",
              "2    15.2    1.60\n",
              "3    15.0    1.59\n",
              "4    15.7    1.60\n",
              "5    15.6    1.61\n",
              "6    15.3    1.58\n",
              "7    15.2    1.65\n",
              "8    15.4    1.64\n",
              "9    15.3    1.59\n",
              "10   15.0    1.60\n",
              "11   15.0    1.61\n",
              "12   16.3    1.60\n",
              "13   16.3    1.59\n",
              "14   16.8    1.58\n",
              "15   16.2    1.66\n",
              "16   16.9    1.65\n",
              "17   16.7    1.62\n",
              "18   16.0    1.61\n",
              "19   16.0    1.62\n",
              "20   16.0    1.63\n",
              "21   17.1    1.62\n",
              "22   17.1    1.67\n",
              "23   17.2    1.70\n",
              "24   17.3    1.65\n",
              "25   17.4    1.67\n",
              "26   17.4    1.68\n",
              "27   17.4    1.72\n",
              "28   17.4    1.64\n",
              "29   17.4    1.67\n",
              "30   17.5    1.75\n",
              "31   17.6    1.64\n",
              "32   17.0    1.63\n",
              "33   17.0    1.64\n",
              "34   17.0    1.65\n",
              "35   18.0    1.65\n",
              "36   18.0    1.66\n",
              "37   18.0    1.67\n",
              "38   18.0    1.68"
            ],
            "text/html": [
              "\n",
              "  <div id=\"df-ec937b4a-9a82-4197-96a9-9498d515da32\">\n",
              "    <div class=\"colab-df-container\">\n",
              "      <div>\n",
              "<style scoped>\n",
              "    .dataframe tbody tr th:only-of-type {\n",
              "        vertical-align: middle;\n",
              "    }\n",
              "\n",
              "    .dataframe tbody tr th {\n",
              "        vertical-align: top;\n",
              "    }\n",
              "\n",
              "    .dataframe thead th {\n",
              "        text-align: right;\n",
              "    }\n",
              "</style>\n",
              "<table border=\"1\" class=\"dataframe\">\n",
              "  <thead>\n",
              "    <tr style=\"text-align: right;\">\n",
              "      <th></th>\n",
              "      <th>Idade</th>\n",
              "      <th>Altura</th>\n",
              "    </tr>\n",
              "  </thead>\n",
              "  <tbody>\n",
              "    <tr>\n",
              "      <th>0</th>\n",
              "      <td>15.0</td>\n",
              "      <td>1.58</td>\n",
              "    </tr>\n",
              "    <tr>\n",
              "      <th>1</th>\n",
              "      <td>15.2</td>\n",
              "      <td>1.59</td>\n",
              "    </tr>\n",
              "    <tr>\n",
              "      <th>2</th>\n",
              "      <td>15.2</td>\n",
              "      <td>1.60</td>\n",
              "    </tr>\n",
              "    <tr>\n",
              "      <th>3</th>\n",
              "      <td>15.0</td>\n",
              "      <td>1.59</td>\n",
              "    </tr>\n",
              "    <tr>\n",
              "      <th>4</th>\n",
              "      <td>15.7</td>\n",
              "      <td>1.60</td>\n",
              "    </tr>\n",
              "    <tr>\n",
              "      <th>5</th>\n",
              "      <td>15.6</td>\n",
              "      <td>1.61</td>\n",
              "    </tr>\n",
              "    <tr>\n",
              "      <th>6</th>\n",
              "      <td>15.3</td>\n",
              "      <td>1.58</td>\n",
              "    </tr>\n",
              "    <tr>\n",
              "      <th>7</th>\n",
              "      <td>15.2</td>\n",
              "      <td>1.65</td>\n",
              "    </tr>\n",
              "    <tr>\n",
              "      <th>8</th>\n",
              "      <td>15.4</td>\n",
              "      <td>1.64</td>\n",
              "    </tr>\n",
              "    <tr>\n",
              "      <th>9</th>\n",
              "      <td>15.3</td>\n",
              "      <td>1.59</td>\n",
              "    </tr>\n",
              "    <tr>\n",
              "      <th>10</th>\n",
              "      <td>15.0</td>\n",
              "      <td>1.60</td>\n",
              "    </tr>\n",
              "    <tr>\n",
              "      <th>11</th>\n",
              "      <td>15.0</td>\n",
              "      <td>1.61</td>\n",
              "    </tr>\n",
              "    <tr>\n",
              "      <th>12</th>\n",
              "      <td>16.3</td>\n",
              "      <td>1.60</td>\n",
              "    </tr>\n",
              "    <tr>\n",
              "      <th>13</th>\n",
              "      <td>16.3</td>\n",
              "      <td>1.59</td>\n",
              "    </tr>\n",
              "    <tr>\n",
              "      <th>14</th>\n",
              "      <td>16.8</td>\n",
              "      <td>1.58</td>\n",
              "    </tr>\n",
              "    <tr>\n",
              "      <th>15</th>\n",
              "      <td>16.2</td>\n",
              "      <td>1.66</td>\n",
              "    </tr>\n",
              "    <tr>\n",
              "      <th>16</th>\n",
              "      <td>16.9</td>\n",
              "      <td>1.65</td>\n",
              "    </tr>\n",
              "    <tr>\n",
              "      <th>17</th>\n",
              "      <td>16.7</td>\n",
              "      <td>1.62</td>\n",
              "    </tr>\n",
              "    <tr>\n",
              "      <th>18</th>\n",
              "      <td>16.0</td>\n",
              "      <td>1.61</td>\n",
              "    </tr>\n",
              "    <tr>\n",
              "      <th>19</th>\n",
              "      <td>16.0</td>\n",
              "      <td>1.62</td>\n",
              "    </tr>\n",
              "    <tr>\n",
              "      <th>20</th>\n",
              "      <td>16.0</td>\n",
              "      <td>1.63</td>\n",
              "    </tr>\n",
              "    <tr>\n",
              "      <th>21</th>\n",
              "      <td>17.1</td>\n",
              "      <td>1.62</td>\n",
              "    </tr>\n",
              "    <tr>\n",
              "      <th>22</th>\n",
              "      <td>17.1</td>\n",
              "      <td>1.67</td>\n",
              "    </tr>\n",
              "    <tr>\n",
              "      <th>23</th>\n",
              "      <td>17.2</td>\n",
              "      <td>1.70</td>\n",
              "    </tr>\n",
              "    <tr>\n",
              "      <th>24</th>\n",
              "      <td>17.3</td>\n",
              "      <td>1.65</td>\n",
              "    </tr>\n",
              "    <tr>\n",
              "      <th>25</th>\n",
              "      <td>17.4</td>\n",
              "      <td>1.67</td>\n",
              "    </tr>\n",
              "    <tr>\n",
              "      <th>26</th>\n",
              "      <td>17.4</td>\n",
              "      <td>1.68</td>\n",
              "    </tr>\n",
              "    <tr>\n",
              "      <th>27</th>\n",
              "      <td>17.4</td>\n",
              "      <td>1.72</td>\n",
              "    </tr>\n",
              "    <tr>\n",
              "      <th>28</th>\n",
              "      <td>17.4</td>\n",
              "      <td>1.64</td>\n",
              "    </tr>\n",
              "    <tr>\n",
              "      <th>29</th>\n",
              "      <td>17.4</td>\n",
              "      <td>1.67</td>\n",
              "    </tr>\n",
              "    <tr>\n",
              "      <th>30</th>\n",
              "      <td>17.5</td>\n",
              "      <td>1.75</td>\n",
              "    </tr>\n",
              "    <tr>\n",
              "      <th>31</th>\n",
              "      <td>17.6</td>\n",
              "      <td>1.64</td>\n",
              "    </tr>\n",
              "    <tr>\n",
              "      <th>32</th>\n",
              "      <td>17.0</td>\n",
              "      <td>1.63</td>\n",
              "    </tr>\n",
              "    <tr>\n",
              "      <th>33</th>\n",
              "      <td>17.0</td>\n",
              "      <td>1.64</td>\n",
              "    </tr>\n",
              "    <tr>\n",
              "      <th>34</th>\n",
              "      <td>17.0</td>\n",
              "      <td>1.65</td>\n",
              "    </tr>\n",
              "    <tr>\n",
              "      <th>35</th>\n",
              "      <td>18.0</td>\n",
              "      <td>1.65</td>\n",
              "    </tr>\n",
              "    <tr>\n",
              "      <th>36</th>\n",
              "      <td>18.0</td>\n",
              "      <td>1.66</td>\n",
              "    </tr>\n",
              "    <tr>\n",
              "      <th>37</th>\n",
              "      <td>18.0</td>\n",
              "      <td>1.67</td>\n",
              "    </tr>\n",
              "    <tr>\n",
              "      <th>38</th>\n",
              "      <td>18.0</td>\n",
              "      <td>1.68</td>\n",
              "    </tr>\n",
              "  </tbody>\n",
              "</table>\n",
              "</div>\n",
              "      <button class=\"colab-df-convert\" onclick=\"convertToInteractive('df-ec937b4a-9a82-4197-96a9-9498d515da32')\"\n",
              "              title=\"Convert this dataframe to an interactive table.\"\n",
              "              style=\"display:none;\">\n",
              "        \n",
              "  <svg xmlns=\"http://www.w3.org/2000/svg\" height=\"24px\"viewBox=\"0 0 24 24\"\n",
              "       width=\"24px\">\n",
              "    <path d=\"M0 0h24v24H0V0z\" fill=\"none\"/>\n",
              "    <path d=\"M18.56 5.44l.94 2.06.94-2.06 2.06-.94-2.06-.94-.94-2.06-.94 2.06-2.06.94zm-11 1L8.5 8.5l.94-2.06 2.06-.94-2.06-.94L8.5 2.5l-.94 2.06-2.06.94zm10 10l.94 2.06.94-2.06 2.06-.94-2.06-.94-.94-2.06-.94 2.06-2.06.94z\"/><path d=\"M17.41 7.96l-1.37-1.37c-.4-.4-.92-.59-1.43-.59-.52 0-1.04.2-1.43.59L10.3 9.45l-7.72 7.72c-.78.78-.78 2.05 0 2.83L4 21.41c.39.39.9.59 1.41.59.51 0 1.02-.2 1.41-.59l7.78-7.78 2.81-2.81c.8-.78.8-2.07 0-2.86zM5.41 20L4 18.59l7.72-7.72 1.47 1.35L5.41 20z\"/>\n",
              "  </svg>\n",
              "      </button>\n",
              "      \n",
              "  <style>\n",
              "    .colab-df-container {\n",
              "      display:flex;\n",
              "      flex-wrap:wrap;\n",
              "      gap: 12px;\n",
              "    }\n",
              "\n",
              "    .colab-df-convert {\n",
              "      background-color: #E8F0FE;\n",
              "      border: none;\n",
              "      border-radius: 50%;\n",
              "      cursor: pointer;\n",
              "      display: none;\n",
              "      fill: #1967D2;\n",
              "      height: 32px;\n",
              "      padding: 0 0 0 0;\n",
              "      width: 32px;\n",
              "    }\n",
              "\n",
              "    .colab-df-convert:hover {\n",
              "      background-color: #E2EBFA;\n",
              "      box-shadow: 0px 1px 2px rgba(60, 64, 67, 0.3), 0px 1px 3px 1px rgba(60, 64, 67, 0.15);\n",
              "      fill: #174EA6;\n",
              "    }\n",
              "\n",
              "    [theme=dark] .colab-df-convert {\n",
              "      background-color: #3B4455;\n",
              "      fill: #D2E3FC;\n",
              "    }\n",
              "\n",
              "    [theme=dark] .colab-df-convert:hover {\n",
              "      background-color: #434B5C;\n",
              "      box-shadow: 0px 1px 3px 1px rgba(0, 0, 0, 0.15);\n",
              "      filter: drop-shadow(0px 1px 2px rgba(0, 0, 0, 0.3));\n",
              "      fill: #FFFFFF;\n",
              "    }\n",
              "  </style>\n",
              "\n",
              "      <script>\n",
              "        const buttonEl =\n",
              "          document.querySelector('#df-ec937b4a-9a82-4197-96a9-9498d515da32 button.colab-df-convert');\n",
              "        buttonEl.style.display =\n",
              "          google.colab.kernel.accessAllowed ? 'block' : 'none';\n",
              "\n",
              "        async function convertToInteractive(key) {\n",
              "          const element = document.querySelector('#df-ec937b4a-9a82-4197-96a9-9498d515da32');\n",
              "          const dataTable =\n",
              "            await google.colab.kernel.invokeFunction('convertToInteractive',\n",
              "                                                     [key], {});\n",
              "          if (!dataTable) return;\n",
              "\n",
              "          const docLinkHtml = 'Like what you see? Visit the ' +\n",
              "            '<a target=\"_blank\" href=https://colab.research.google.com/notebooks/data_table.ipynb>data table notebook</a>'\n",
              "            + ' to learn more about interactive tables.';\n",
              "          element.innerHTML = '';\n",
              "          dataTable['output_type'] = 'display_data';\n",
              "          await google.colab.output.renderOutput(dataTable, element);\n",
              "          const docLink = document.createElement('div');\n",
              "          docLink.innerHTML = docLinkHtml;\n",
              "          element.appendChild(docLink);\n",
              "        }\n",
              "      </script>\n",
              "    </div>\n",
              "  </div>\n",
              "  "
            ]
          },
          "metadata": {},
          "execution_count": 12
        }
      ]
    },
    {
      "cell_type": "code",
      "source": [
        "dados.plot(kind = 'scatter', x = 'Idade', y = 'Altura')\n",
        "plt.show()"
      ],
      "metadata": {
        "colab": {
          "base_uri": "https://localhost:8080/",
          "height": 279
        },
        "id": "F_4hLKgN49gu",
        "outputId": "6e58b269-b42d-4658-e04a-e5b4834c2fdc"
      },
      "execution_count": 13,
      "outputs": [
        {
          "output_type": "display_data",
          "data": {
            "text/plain": [
              "<Figure size 432x288 with 1 Axes>"
            ],
            "image/png": "[encoded data removed]"
          },
          "metadata": {
            "needs_background": "light"
          }
        }
      ]
    },
    {
      "cell_type": "code",
      "source": [
        "xmedia = dados['Idade'].mean()\n",
        "print(\"Idade Média é: \" + str(xmedia))\n",
        "ymedia = dados['Altura'].mean()\n",
        "print(\"Altura Média é: \" + str(ymedia))"
      ],
      "metadata": {
        "colab": {
          "base_uri": "https://localhost:8080/"
        },
        "id": "PTYFJdnQ5Wao",
        "outputId": "48a0a58b-16a1-4cab-91fa-ca097a3eea4f"
      },
      "execution_count": 14,
      "outputs": [
        {
          "output_type": "stream",
          "name": "stdout",
          "text": [
            "Idade Média é: 16.51025641025641\n",
            "Altura Média é: 1.6356410256410259\n"
          ]
        }
      ]
    },
    {
      "cell_type": "code",
      "source": [
        "tamanho = len(dados.index)\n",
        "i = 0\n",
        "b_den = 0\n",
        "b_num = 0\n",
        "while(i < tamanho):\n",
        "  b_num = b_num + (dados.iloc[i]['Idade'] - xmedia)*(dados.iloc[i]['Altura'] - ymedia)\n",
        "  b_den = b_den + (dados.iloc[i]['Idade'] - xmedia)*(dados.iloc[i]['Idade'] - xmedia)\n",
        "  print(\"Iteração \" + str(i) + \" ===> \" + str(b_den) + \" ===> \" + str(b_num))\n",
        "  i = i+1\n",
        "b = b_num/b_den\n",
        "print(\"Coeficiente Angular: \" + str(b))"
      ],
      "metadata": {
        "colab": {
          "base_uri": "https://localhost:8080/"
        },
        "id": "_bDGSlb_6Zxu",
        "outputId": "e62311b3-a7bc-4fed-ef27-1dd44906c243"
      },
      "execution_count": 15,
      "outputs": [
        {
          "output_type": "stream",
          "name": "stdout",
          "text": [
            "Iteração 0 ===> 2.2808744247205786 ===> 0.0840322156476005\n",
            "Iteração 1 ===> 3.997646285338595 ===> 0.14383366206443177\n",
            "Iteração 2 ===> 5.7144181459566115 ===> 0.1905325443786989\n",
            "Iteração 3 ===> 7.99529257067719 ===> 0.2594621959237353\n",
            "Iteração 4 ===> 8.651808021038795 ===> 0.28834056541748954\n",
            "Iteração 5 ===> 9.480374753451681 ===> 0.31168047337278226\n",
            "Iteração 6 ===> 10.945095332018411 ===> 0.379020381328075\n",
            "Iteração 7 ===> 12.661867192636427 ===> 0.36020644312952177\n",
            "Iteração 8 ===> 13.894536489151877 ===> 0.3553668639053275\n",
            "Iteração 9 ===> 15.359257067718607 ===> 0.4106042077580561\n",
            "Iteração 10 ===> 17.640131492439185 ===> 0.4644312952005284\n",
            "Iteração 11 ===> 19.921005917159764 ===> 0.5031558185404366\n",
            "Iteração 12 ===> 19.965213675213676 ===> 0.5106495726495753\n",
            "Iteração 13 ===> 20.009421433267587 ===> 0.5202458908612781\n",
            "Iteração 14 ===> 20.09337278106509 ===> 0.5041242603550322\n",
            "Iteração 15 ===> 20.189631821170284 ===> 0.49656673241288896\n",
            "Iteração 16 ===> 20.341531886916503 ===> 0.5021630506245917\n",
            "Iteração 17 ===> 20.377534516765287 ===> 0.4991952662721919\n",
            "Iteração 18 ===> 20.637896120973046 ===> 0.5122787639710743\n",
            "Iteração 19 ===> 20.898257725180805 ===> 0.5202596975673925\n",
            "Iteração 20 ===> 21.158619329388564 ===> 0.5231380670611468\n",
            "Iteração 21 ===> 21.506416831032222 ===> 0.5139138724523368\n",
            "Iteração 22 ===> 21.85421433267588 ===> 0.5341768573307062\n",
            "Iteração 23 ===> 22.329960552268254 ===> 0.5785680473372806\n",
            "Iteração 24 ===> 22.953655489809346 ===> 0.589907955292573\n",
            "Iteração 25 ===> 23.745299145299153 ===> 0.6204786324786344\n",
            "Iteração 26 ===> 24.53694280078896 ===> 0.6599467455621318\n",
            "Iteração 27 ===> 25.328586456278767 ===> 0.7350046022353728\n",
            "Iteração 28 ===> 26.120230111768574 ===> 0.7388829717291266\n",
            "Iteração 29 ===> 26.91187376725838 ===> 0.7694536489151881\n",
            "Iteração 30 ===> 27.89146614069691 ===> 0.8826397107166343\n",
            "Iteração 31 ===> 29.07900723208416 ===> 0.8873898750821829\n",
            "Iteração 32 ===> 29.318856015779097 ===> 0.8846272189349113\n",
            "Iteração 33 ===> 29.558704799474036 ===> 0.8867619986850754\n",
            "Iteração 34 ===> 29.798553583168975 ===> 0.8937942143326756\n",
            "Iteração 35 ===> 32.01788954635109 ===> 0.9151854043392498\n",
            "Iteração 36 ===> 34.23722550953321 ===> 0.9514740302432598\n",
            "Iteração 37 ===> 36.45656147271533 ===> 1.0026600920447057\n",
            "Iteração 38 ===> 38.67589743589745 ===> 1.0687435897435877\n",
            "Coeficiente Angular: 0.027633323609748277\n"
          ]
        }
      ]
    },
    {
      "cell_type": "code",
      "source": [
        "a = ymedia - b*xmedia\n",
        "print(\"Coeficiente Linear: \" + str(a))"
      ],
      "metadata": {
        "colab": {
          "base_uri": "https://localhost:8080/"
        },
        "id": "yTxsmHrH8c1K",
        "outputId": "f4e1af17-6603-43d6-ab73-2106712c8e59"
      },
      "execution_count": 16,
      "outputs": [
        {
          "output_type": "stream",
          "name": "stdout",
          "text": [
            "Coeficiente Linear: 1.1794077673764896\n"
          ]
        }
      ]
    },
    {
      "cell_type": "code",
      "source": [
        "fig, ax = plt.subplots()\n",
        "ax.scatter(dados['Idade'], \n",
        "           dados['Altura'])\n",
        "plt.plot(dados['Idade'], b*dados['Idade'] + a, color='red')\n",
        "ax.set(xlim=(14, 19),\n",
        "       ylim=(1.5,1.78))\n",
        "plt.grid(True)\n",
        "plt.show()"
      ],
      "metadata": {
        "colab": {
          "base_uri": "https://localhost:8080/",
          "height": 265
        },
        "id": "Qo_mMUzR8m4b",
        "outputId": "77690c2d-e3eb-4124-a109-2b33c5e9c7bd"
      },
      "execution_count": 17,
      "outputs": [
        {
          "output_type": "display_data",
          "data": {
            "text/plain": [
              "<Figure size 432x288 with 1 Axes>"
            ],
            "image/png": "[encoded data removed]"
          },
          "metadata": {
            "needs_background": "light"
          }
        }
      ]
    }
  ]
}